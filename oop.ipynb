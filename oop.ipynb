{
 "cells": [
  {
   "cell_type": "markdown",
   "metadata": {},
   "source": [
    "# Object Oriented Programming:"
   ]
  },
  {
   "cell_type": "markdown",
   "metadata": {
    "vscode": {
     "languageId": "plaintext"
    }
   },
   "source": [
    "OOP is a paradigm that is based on the concept of \"objects\", which can contain data and code to manipulate that data."
   ]
  },
  {
   "cell_type": "markdown",
   "metadata": {},
   "source": [
    "## Key Concepts:\n",
    "- **Class**: A blueprint for creating objects (a particular data structure), providing initial values for state (member variables or properties), and implementations of behavior (member functions or methods).\n",
    "- **Object**: An instance of a class.\n",
    "- **Inheritance**: A mechanism where a new class is derived from an existing class.\n",
    "- **Encapsulation**: The bundling of data with the methods that operate on that data.\n",
    "- **Polymorphism**: The provision of a single interface to entities of different types.\n",
    "- **Abstraction**: The concept of hiding the complex implementation details and showing only the necessary features of the object."
   ]
  },
  {
   "cell_type": "markdown",
   "metadata": {},
   "source": [
    "### 1. Defining a Class:"
   ]
  },
  {
   "cell_type": "code",
   "execution_count": 9,
   "metadata": {},
   "outputs": [
    {
     "name": "stdout",
     "output_type": "stream",
     "text": [
      "The 2015 Toyota Corolla's engine is now running.\n",
      "The 2017 Ford Fiesta's engine is now running.\n",
      "The 2019 Chevrolet Camaro's engine is now running.\n"
     ]
    }
   ],
   "source": [
    "class Car:\n",
    "    # Class attribute (shared by all instances)\n",
    "    wheels = 4\n",
    "\n",
    "    def __init__(self, make, model, year):\n",
    "        # Instance attributes\n",
    "        self.make = make\n",
    "        self.model = model\n",
    "        self.year = year\n",
    "\n",
    "    def start_engine(self):\n",
    "        print(f\"The {self.year} {self.make} {self.model}'s engine is now running.\")\n",
    "\n",
    "myFirstCar = Car(\"Toyota\", \"Corolla\", 2015)\n",
    "myFirstCar.start_engine()\n",
    "\n",
    "mySecondCar = Car(\"Ford\", \"Fiesta\", 2017)\n",
    "mySecondCar.start_engine()\n",
    "\n",
    "myThirdCar = Car(\"Chevrolet\", \"Camaro\", 2019)\n",
    "myThirdCar.start_engine()"
   ]
  },
  {
   "cell_type": "markdown",
   "metadata": {},
   "source": [
    "### 2. Instance Variables and Class Variables:"
   ]
  },
  {
   "cell_type": "code",
   "execution_count": null,
   "metadata": {},
   "outputs": [
    {
     "name": "stdout",
     "output_type": "stream",
     "text": [
      "Class variable 'wheels': 4\n",
      "myFirstCar: Make - Toyota, Model - Corolla, Year - 2015, Wheels - 4\n",
      "mySecondCar: Make - Ford, Model - Fiesta, Year - 2017, Wheels - 4\n",
      "myThirdCar: Make - Chevrolet, Model - Camaro, Year - 2019, Wheels - 4\n",
      "myFourthCar: Make - Honda, Model - Civic, Year - 2020, Wheels - 3\n",
      "Modified myFourthCar instance variable 'wheels': 4\n",
      "Class variable 'wheels' after modifying instance variable: 4\n"
     ]
    }
   ],
   "source": [
    "# Print class variable\n",
    "print(f\"Class variable 'wheels': {Car.wheels}\")\n",
    "\n",
    "# Print instance variables\n",
    "print(f\"myFirstCar: Make - {myFirstCar.make}, Model - {myFirstCar.model}, Year - {myFirstCar.year}, Wheels - {myFirstCar.wheels}\")\n",
    "print(f\"mySecondCar: Make - {mySecondCar.make}, Model - {mySecondCar.model}, Year - {mySecondCar.year}, Wheels - {mySecondCar.wheels}\")\n",
    "print(f\"myThirdCar: Make - {myThirdCar.make}, Model - {myThirdCar.model}, Year - {myThirdCar.year}, Wheels - {myThirdCar.wheels}\")\n",
    "\n",
    "# Create a new instance and print its variables\n",
    "myFourthCar = Car(\"Honda\", \"Civic\", 2020)\n",
    "myFourthCar.wheels = 3\n",
    "print(f\"myFourthCar: Make - {myFourthCar.make}, Model - {myFourthCar.model}, Year - {myFourthCar.year}, Wheels - {myFourthCar.wheels}\")\n",
    "\n",
    "# Modify instance variable\n",
    "myFourthCar.wheels = 4\n",
    "print(f\"Modified myFourthCar instance variable 'wheels': {myFourthCar.wheels}\")\n"
   ]
  },
  {
   "cell_type": "markdown",
   "metadata": {
    "vscode": {
     "languageId": "lua"
    }
   },
   "source": [
    "### 3. Init Constructor:\n",
    "\n",
    "The `__init__` method is a special method in Python classes, known as the constructor. It is automatically called when a new instance of the class is created. The purpose of the `__init__` method is to initialize the attributes of the class.\n",
    "\n",
    "In the `Car` class, the `__init__` method initializes the `make`, `model`, and `year` attributes for each instance of the class. Here's an example:\n"
   ]
  },
  {
   "cell_type": "markdown",
   "metadata": {},
   "source": [
    "### 4. Magic Method:\n",
    "Magic methods in Python are special methods that start and end with double underscores, also known as dunder methods. They are used to provide special functionality to classes. Examples include `__init__`, `__str__`, `__repr__`, `__len__`, and `__eq__`. These methods allow instances of the class to interact with Python's built-in functions and operators. For example, the `__str__` method is used to define the string representation of an object, which is what gets printed when you use the `print()` function on an instance of the class."
   ]
  },
  {
   "cell_type": "code",
   "execution_count": 15,
   "metadata": {},
   "outputs": [
    {
     "name": "stdout",
     "output_type": "stream",
     "text": [
      "2015 Toyota Corolla with 4 wheels\n",
      "Car(make='Toyota', model='Corolla', year=2015)\n",
      "False\n",
      "7\n"
     ]
    }
   ],
   "source": [
    "# Create a new class EnhancedCar that inherits from Car and adds magic methods\n",
    "class EnhancedCar(Car):\n",
    "    def __str__(self):\n",
    "        return f\"{self.year} {self.make} {self.model} with {self.wheels} wheels\"\n",
    "\n",
    "    def __repr__(self):\n",
    "        return f\"Car(make='{self.make}', model='{self.model}', year={self.year})\"\n",
    "\n",
    "    def __eq__(self, other):\n",
    "        return (self.make, self.model, self.year) == (other.make, other.model, other.year)\n",
    "\n",
    "    def __len__(self):\n",
    "        return len(self.model)\n",
    "\n",
    "# Create instances of EnhancedCar\n",
    "enhancedFirstCar = EnhancedCar(\"Toyota\", \"Corolla\", 2015)\n",
    "enhancedSecondCar = EnhancedCar(\"Ford\", \"Fiesta\", 2017)\n",
    "\n",
    "# Demonstrate the magic methods\n",
    "print(str(enhancedFirstCar))\n",
    "print(repr(enhancedFirstCar))\n",
    "print(enhancedFirstCar == enhancedSecondCar)\n",
    "print(len(enhancedFirstCar))"
   ]
  },
  {
   "cell_type": "markdown",
   "metadata": {},
   "source": [
    "## Inheritance: \n",
    "Single inheritance is when a class inherits from one superclass. For example, `EnhancedCar` inherits from `Car`.\n",
    "\n",
    "Multiple inheritance is when a class inherits from more than one superclass. Python supports multiple inheritance, allowing a class to inherit attributes and methods from multiple classes."
   ]
  },
  {
   "cell_type": "markdown",
   "metadata": {},
   "source": [
    "### 1. Single Inheritance: "
   ]
  },
  {
   "cell_type": "code",
   "execution_count": 17,
   "metadata": {},
   "outputs": [
    {
     "name": "stdout",
     "output_type": "stream",
     "text": [
      "The 2020 Tesla Model S's engine is now running.\n",
      "The Tesla Model S has a 100-kWh battery.\n"
     ]
    }
   ],
   "source": [
    "class ElectricCar(Car):\n",
    "    def __init__(self, make, model, year, battery_size):\n",
    "        super().__init__(make, model, year)\n",
    "        self.battery_size = battery_size\n",
    "\n",
    "    def describe_battery(self):\n",
    "        print(f\"The {self.make} {self.model} has a {self.battery_size}-kWh battery.\")\n",
    "\n",
    "# Create an instance of ElectricCar\n",
    "myElectricCar = ElectricCar(\"Tesla\", \"Model S\", 2020, 100)\n",
    "\n",
    "# Demonstrate the inherited and new methods\n",
    "myElectricCar.start_engine()\n",
    "myElectricCar.describe_battery()"
   ]
  },
  {
   "cell_type": "markdown",
   "metadata": {},
   "source": [
    "### 2. Multiple Inheritance:"
   ]
  },
  {
   "cell_type": "code",
   "execution_count": 23,
   "metadata": {},
   "outputs": [
    {
     "name": "stdout",
     "output_type": "stream",
     "text": [
      "The 2021 Tesla Model X's engine is now running.\n",
      "The Tesla Model X has a 100-kWh battery.\n",
      "The Tesla Model X has an autonomous driving level of 5\n",
      "The Tesla Model X has the following luxury features: Leather seats, Premium sound system\n"
     ]
    }
   ],
   "source": [
    "# Define a new class that inherits from both ElectricCar and EnhancedCar\n",
    "class LuxuryAutonomousCar(ElectricCar, EnhancedCar):\n",
    "    def __init__(self, make, model, year, battery_size, autonomous_level, luxury_features):\n",
    "        ElectricCar.__init__(self, make, model, year, battery_size)\n",
    "        self.autonomous_level = autonomous_level\n",
    "        self.luxury_features = luxury_features\n",
    "\n",
    "    def describe_autonomous(self):\n",
    "        print(f\"The {self.make} {self.model} has an autonomous driving level of {self.autonomous_level}\")\n",
    "\n",
    "    def describe_luxury(self):\n",
    "        print(f\"The {self.make} {self.model} has the following luxury features: {', '.join(self.luxury_features)}\")\n",
    "\n",
    "# Create an instance of LuxuryAutonomousCar\n",
    "myLuxuryAutonomousCar = LuxuryAutonomousCar(\"Tesla\", \"Model X\", 2021, 100, 5, [\"Leather seats\", \"Premium sound system\"])\n",
    "\n",
    "# Demonstrate the inherited and new methods\n",
    "myLuxuryAutonomousCar.start_engine()\n",
    "myLuxuryAutonomousCar.describe_battery()\n",
    "myLuxuryAutonomousCar.describe_autonomous()\n",
    "myLuxuryAutonomousCar.describe_luxury()"
   ]
  }
 ],
 "metadata": {
  "kernelspec": {
   "display_name": "base",
   "language": "python",
   "name": "python3"
  },
  "language_info": {
   "codemirror_mode": {
    "name": "ipython",
    "version": 3
   },
   "file_extension": ".py",
   "mimetype": "text/x-python",
   "name": "python",
   "nbconvert_exporter": "python",
   "pygments_lexer": "ipython3",
   "version": "3.12.7"
  }
 },
 "nbformat": 4,
 "nbformat_minor": 2
}
