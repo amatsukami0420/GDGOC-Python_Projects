{
 "cells": [
  {
   "cell_type": "markdown",
   "metadata": {},
   "source": [
    "# Object Oriented Programming:"
   ]
  },
  {
   "cell_type": "markdown",
   "metadata": {
    "vscode": {
     "languageId": "plaintext"
    }
   },
   "source": [
    "OOP is a paradigm that is based on the concept of \"objects\", which can contain data and code to manipulate that data."
   ]
  },
  {
   "cell_type": "markdown",
   "metadata": {},
   "source": [
    "## Key Concepts:\n",
    "- **Class**: A blueprint for creating objects (a particular data structure), providing initial values for state (member variables or properties), and implementations of behavior (member functions or methods).\n",
    "- **Object**: An instance of a class.\n",
    "- **Inheritance**: A mechanism where a new class is derived from an existing class.\n",
    "- **Encapsulation**: The bundling of data with the methods that operate on that data.\n",
    "- **Polymorphism**: The provision of a single interface to entities of different types.\n",
    "- **Abstraction**: The concept of hiding the complex implementation details and showing only the necessary features of the object."
   ]
  },
  {
   "cell_type": "markdown",
   "metadata": {},
   "source": [
    "### 1. Defining a Class:"
   ]
  },
  {
   "cell_type": "code",
   "execution_count": 9,
   "metadata": {},
   "outputs": [
    {
     "name": "stdout",
     "output_type": "stream",
     "text": [
      "The 2015 Toyota Corolla's engine is now running.\n",
      "The 2017 Ford Fiesta's engine is now running.\n",
      "The 2019 Chevrolet Camaro's engine is now running.\n"
     ]
    }
   ],
   "source": [
    "class Car:\n",
    "    # Class attribute (shared by all instances)\n",
    "    wheels = 4\n",
    "\n",
    "    def __init__(self, make, model, year):\n",
    "        # Instance attributes\n",
    "        self.make = make\n",
    "        self.model = model\n",
    "        self.year = year\n",
    "\n",
    "    def start_engine(self):\n",
    "        print(f\"The {self.year} {self.make} {self.model}'s engine is now running.\")\n",
    "\n",
    "myFirstCar = Car(\"Toyota\", \"Corolla\", 2015)\n",
    "myFirstCar.start_engine()\n",
    "\n",
    "mySecondCar = Car(\"Ford\", \"Fiesta\", 2017)\n",
    "mySecondCar.start_engine()\n",
    "\n",
    "myThirdCar = Car(\"Chevrolet\", \"Camaro\", 2019)\n",
    "myThirdCar.start_engine()"
   ]
  },
  {
   "cell_type": "markdown",
   "metadata": {},
   "source": [
    "### 2. Instance Variables and Class Variables:"
   ]
  },
  {
   "cell_type": "code",
   "execution_count": null,
   "metadata": {},
   "outputs": [
    {
     "name": "stdout",
     "output_type": "stream",
     "text": [
      "Class variable 'wheels': 4\n",
      "myFirstCar: Make - Toyota, Model - Corolla, Year - 2015, Wheels - 4\n",
      "mySecondCar: Make - Ford, Model - Fiesta, Year - 2017, Wheels - 4\n",
      "myThirdCar: Make - Chevrolet, Model - Camaro, Year - 2019, Wheels - 4\n",
      "myFourthCar: Make - Honda, Model - Civic, Year - 2020, Wheels - 3\n",
      "Modified myFourthCar instance variable 'wheels': 4\n",
      "Class variable 'wheels' after modifying instance variable: 4\n"
     ]
    }
   ],
   "source": [
    "# Print class variable\n",
    "print(f\"Class variable 'wheels': {Car.wheels}\")\n",
    "\n",
    "# Print instance variables\n",
    "print(f\"myFirstCar: Make - {myFirstCar.make}, Model - {myFirstCar.model}, Year - {myFirstCar.year}, Wheels - {myFirstCar.wheels}\")\n",
    "print(f\"mySecondCar: Make - {mySecondCar.make}, Model - {mySecondCar.model}, Year - {mySecondCar.year}, Wheels - {mySecondCar.wheels}\")\n",
    "print(f\"myThirdCar: Make - {myThirdCar.make}, Model - {myThirdCar.model}, Year - {myThirdCar.year}, Wheels - {myThirdCar.wheels}\")\n",
    "\n",
    "# Create a new instance and print its variables\n",
    "myFourthCar = Car(\"Honda\", \"Civic\", 2020)\n",
    "myFourthCar.wheels = 3\n",
    "print(f\"myFourthCar: Make - {myFourthCar.make}, Model - {myFourthCar.model}, Year - {myFourthCar.year}, Wheels - {myFourthCar.wheels}\")\n",
    "\n",
    "# Modify instance variable\n",
    "myFourthCar.wheels = 4\n",
    "print(f\"Modified myFourthCar instance variable 'wheels': {myFourthCar.wheels}\")\n"
   ]
  },
  {
   "cell_type": "markdown",
   "metadata": {
    "vscode": {
     "languageId": "lua"
    }
   },
   "source": [
    "### 3. Init Constructor:\n",
    "\n",
    "The `__init__` method is a special method in Python classes, known as the constructor. It is automatically called when a new instance of the class is created. The purpose of the `__init__` method is to initialize the attributes of the class.\n",
    "\n",
    "In the `Car` class, the `__init__` method initializes the `make`, `model`, and `year` attributes for each instance of the class. Here's an example:\n"
   ]
  },
  {
   "cell_type": "markdown",
   "metadata": {},
   "source": [
    "### 4. Magic Method:\n",
    "Magic methods in Python are special methods that start and end with double underscores, also known as dunder methods. They are used to provide special functionality to classes. Examples include `__init__`, `__str__`, `__repr__`, `__len__`, and `__eq__`. These methods allow instances of the class to interact with Python's built-in functions and operators. For example, the `__str__` method is used to define the string representation of an object, which is what gets printed when you use the `print()` function on an instance of the class."
   ]
  },
  {
   "cell_type": "code",
   "execution_count": 15,
   "metadata": {},
   "outputs": [
    {
     "name": "stdout",
     "output_type": "stream",
     "text": [
      "2015 Toyota Corolla with 4 wheels\n",
      "Car(make='Toyota', model='Corolla', year=2015)\n",
      "False\n",
      "7\n"
     ]
    }
   ],
   "source": [
    "# Create a new class EnhancedCar that inherits from Car and adds magic methods\n",
    "class EnhancedCar(Car):\n",
    "    def __str__(self):\n",
    "        return f\"{self.year} {self.make} {self.model} with {self.wheels} wheels\"\n",
    "\n",
    "    def __repr__(self):\n",
    "        return f\"Car(make='{self.make}', model='{self.model}', year={self.year})\"\n",
    "\n",
    "    def __eq__(self, other):\n",
    "        return (self.make, self.model, self.year) == (other.make, other.model, other.year)\n",
    "\n",
    "    def __len__(self):\n",
    "        return len(self.model)\n",
    "\n",
    "# Create instances of EnhancedCar\n",
    "enhancedFirstCar = EnhancedCar(\"Toyota\", \"Corolla\", 2015)\n",
    "enhancedSecondCar = EnhancedCar(\"Ford\", \"Fiesta\", 2017)\n",
    "\n",
    "# Demonstrate the magic methods\n",
    "print(str(enhancedFirstCar))\n",
    "print(repr(enhancedFirstCar))\n",
    "print(enhancedFirstCar == enhancedSecondCar)\n",
    "print(len(enhancedFirstCar))"
   ]
  },
  {
   "cell_type": "markdown",
   "metadata": {},
   "source": [
    "## Inheritance: \n",
    "Single inheritance is when a class inherits from one superclass. For example, `EnhancedCar` inherits from `Car`.\n",
    "\n",
    "Multiple inheritance is when a class inherits from more than one superclass. Python supports multiple inheritance, allowing a class to inherit attributes and methods from multiple classes."
   ]
  },
  {
   "cell_type": "markdown",
   "metadata": {},
   "source": [
    "### 1. Single Inheritance: "
   ]
  },
  {
   "cell_type": "code",
   "execution_count": 17,
   "metadata": {},
   "outputs": [
    {
     "name": "stdout",
     "output_type": "stream",
     "text": [
      "The 2020 Tesla Model S's engine is now running.\n",
      "The Tesla Model S has a 100-kWh battery.\n"
     ]
    }
   ],
   "source": [
    "class ElectricCar(Car):\n",
    "    def __init__(self, make, model, year, battery_size):\n",
    "        super().__init__(make, model, year)\n",
    "        self.battery_size = battery_size\n",
    "\n",
    "    def describe_battery(self):\n",
    "        print(f\"The {self.make} {self.model} has a {self.battery_size}-kWh battery.\")\n",
    "\n",
    "# Create an instance of ElectricCar\n",
    "myElectricCar = ElectricCar(\"Tesla\", \"Model S\", 2020, 100)\n",
    "\n",
    "# Demonstrate the inherited and new methods\n",
    "myElectricCar.start_engine()\n",
    "myElectricCar.describe_battery()"
   ]
  },
  {
   "cell_type": "markdown",
   "metadata": {},
   "source": [
    "### 2. Multiple Inheritance:"
   ]
  },
  {
   "cell_type": "code",
   "execution_count": 23,
   "metadata": {},
   "outputs": [
    {
     "name": "stdout",
     "output_type": "stream",
     "text": [
      "The 2021 Tesla Model X's engine is now running.\n",
      "The Tesla Model X has a 100-kWh battery.\n",
      "The Tesla Model X has an autonomous driving level of 5\n",
      "The Tesla Model X has the following luxury features: Leather seats, Premium sound system\n"
     ]
    }
   ],
   "source": [
    "# Define a new class that inherits from both ElectricCar and EnhancedCar\n",
    "class LuxuryAutonomousCar(ElectricCar, EnhancedCar):\n",
    "    def __init__(self, make, model, year, battery_size, autonomous_level, luxury_features):\n",
    "        ElectricCar.__init__(self, make, model, year, battery_size)\n",
    "        self.autonomous_level = autonomous_level\n",
    "        self.luxury_features = luxury_features\n",
    "\n",
    "    def describe_autonomous(self):\n",
    "        print(f\"The {self.make} {self.model} has an autonomous driving level of {self.autonomous_level}\")\n",
    "\n",
    "    def describe_luxury(self):\n",
    "        print(f\"The {self.make} {self.model} has the following luxury features: {', '.join(self.luxury_features)}\")\n",
    "\n",
    "# Create an instance of LuxuryAutonomousCar\n",
    "myLuxuryAutonomousCar = LuxuryAutonomousCar(\"Tesla\", \"Model X\", 2021, 100, 5, [\"Leather seats\", \"Premium sound system\"])\n",
    "\n",
    "# Demonstrate the inherited and new methods\n",
    "myLuxuryAutonomousCar.start_engine()\n",
    "myLuxuryAutonomousCar.describe_battery()\n",
    "myLuxuryAutonomousCar.describe_autonomous()\n",
    "myLuxuryAutonomousCar.describe_luxury()"
   ]
  },
  {
   "cell_type": "markdown",
   "metadata": {},
   "source": [
    "## Overloading\n",
    "\n",
    "**Method Overloading**: Method overloading is a feature that allows a class to have more than one method with the same name, but different parameters. It is a way to achieve polymorphism in object-oriented programming. In Python, method overloading is not directly supported, but it can be achieved using default arguments or variable-length arguments. "
   ]
  },
  {
   "cell_type": "code",
   "execution_count": 1,
   "metadata": {},
   "outputs": [
    {
     "name": "stdout",
     "output_type": "stream",
     "text": [
      "3\n",
      "10\n",
      "7\n",
      "5\n",
      "6\n",
      "24\n",
      "10.0\n",
      "5.0\n"
     ]
    }
   ],
   "source": [
    "class Calculator:\n",
    "    def add(self, *args):\n",
    "        return sum(args)\n",
    "\n",
    "    def subtract(self, *args):\n",
    "        if len(args) == 0:\n",
    "            return 0\n",
    "        result = args[0]\n",
    "        for num in args[1:]:\n",
    "            result -= num\n",
    "        return result\n",
    "\n",
    "    def multiply(self, *args):\n",
    "        if len(args) == 0:\n",
    "            return 0\n",
    "        result = 1\n",
    "        for num in args:\n",
    "            result *= num\n",
    "        return result\n",
    "\n",
    "    def divide(self, *args):\n",
    "        if len(args) == 0:\n",
    "            return 0\n",
    "        result = args[0]\n",
    "        for num in args[1:]:\n",
    "            if num == 0:\n",
    "                return \"Division by zero is not allowed\"\n",
    "            result /= num\n",
    "        return result\n",
    "\n",
    "# Create an instance of Calculator\n",
    "calc = Calculator()\n",
    "\n",
    "# Demonstrate the methods with multiple inputs\n",
    "print(calc.add(1, 2))           # Output: 3\n",
    "print(calc.add(1, 2, 3, 4))     # Output: 10\n",
    "print(calc.subtract(10, 3))     # Output: 7\n",
    "print(calc.subtract(10, 3, 2))  # Output: 5\n",
    "print(calc.multiply(2, 3))      # Output: 6\n",
    "print(calc.multiply(2, 3, 4))   # Output: 24\n",
    "print(calc.divide(20, 2))       # Output: 10.0\n",
    "print(calc.divide(20, 2, 2))    # Output: 5.0"
   ]
  },
  {
   "cell_type": "markdown",
   "metadata": {},
   "source": [
    "## Method Overriding and Polymorphism:\n",
    "\n",
    "**Method Overriding**: Method overriding occurs when a subclass provides a specific implementation for a method that is already defined in its superclass. The overridden method in the subclass should have the same name, parameters, and return type as the method in the superclass. This allows the subclass to provide a specific behavior for the method while still maintaining the same interface.\n",
    "\n",
    "**Polymorphism**: Polymorphism is the ability of different objects to respond to the same method in different ways. It allows methods to be used interchangeably with objects of different types. In the context of object-oriented programming, polymorphism typically refers to the ability of different classes to be treated as instances of the same class through inheritance. This is achieved through method overriding and interfaces."
   ]
  },
  {
   "cell_type": "code",
   "execution_count": 2,
   "metadata": {},
   "outputs": [
    {
     "name": "stdout",
     "output_type": "stream",
     "text": [
      "Woof!\n",
      "Meow!\n",
      "Moo!\n"
     ]
    }
   ],
   "source": [
    "class Animal:\n",
    "    def make_sound(self):\n",
    "        raise NotImplementedError(\"Subclass must implement abstract method\")\n",
    "\n",
    "class Dog(Animal):\n",
    "    def make_sound(self):\n",
    "        return \"Woof!\"\n",
    "\n",
    "class Cat(Animal):\n",
    "    def make_sound(self):\n",
    "        return \"Meow!\"\n",
    "\n",
    "class Cow(Animal):\n",
    "    def make_sound(self):\n",
    "        return \"Moo!\"\n",
    "\n",
    "# Create instances of each animal\n",
    "dog = Dog()\n",
    "cat = Cat()\n",
    "cow = Cow()\n",
    "\n",
    "# Demonstrate polymorphism\n",
    "def animal_sound(animal):\n",
    "    print(animal.make_sound())\n",
    "\n",
    "# Using the instances\n",
    "animal_sound(dog)  # Output: Woof!\n",
    "animal_sound(cat)  # Output: Meow!\n",
    "animal_sound(cow)  # Output: Moo!"
   ]
  },
  {
   "cell_type": "markdown",
   "metadata": {},
   "source": [
    "## Abstraction:"
   ]
  },
  {
   "cell_type": "markdown",
   "metadata": {},
   "source": [
    "Abstraction is one of the fundamental principles of Object-Oriented Programming (OOP). It involves the process of hiding the complex implementation details and showing only the essential features of the object. This helps in reducing programming complexity and effort.Abstraction is one of the fundamental principles of Object-Oriented Programming (OOP). It involves the process of hiding the complex implementation details and showing only the essential features of the object. This helps in reducing programming complexity and effort.\n",
    "\n",
    "In Python, abstraction can be achieved using abstract classes and interfaces. An abstract class is a class that cannot be instantiated and often includes one or more abstract methods. These abstract methods are defined in the abstract class but contain no implementation. Subclasses of the abstract class are required to provide implementations for these abstract methods.In Python, abstraction can be achieved using abstract classes and interfaces. An abstract class is a class that cannot be instantiated and often includes one or more abstract methods. These abstract methods are defined in the abstract class but contain no implementation. Subclasses of the abstract class are required to provide implementations for these abstract methods."
   ]
  },
  {
   "cell_type": "code",
   "execution_count": 3,
   "metadata": {},
   "outputs": [
    {
     "name": "stdout",
     "output_type": "stream",
     "text": [
      "Rectangle area: 12\n",
      "Rectangle perimeter: 14\n",
      "Circle area: 78.5\n",
      "Circle perimeter: 31.400000000000002\n"
     ]
    }
   ],
   "source": [
    "from abc import ABC, abstractmethod\n",
    "\n",
    "class Shape(ABC):\n",
    "    @abstractmethod\n",
    "    def area(self):\n",
    "        pass\n",
    "\n",
    "    @abstractmethod\n",
    "    def perimeter(self):\n",
    "        pass\n",
    "\n",
    "class Rectangle(Shape):\n",
    "    def __init__(self, width, height):\n",
    "        self.width = width\n",
    "        self.height = height\n",
    "\n",
    "    def area(self):\n",
    "        return self.width * self.height\n",
    "\n",
    "    def perimeter(self):\n",
    "        return 2 * (self.width + self.height)\n",
    "\n",
    "class Circle(Shape):\n",
    "    def __init__(self, radius):\n",
    "        self.radius = radius\n",
    "\n",
    "    def area(self):\n",
    "        return 3.14 * self.radius ** 2\n",
    "\n",
    "    def perimeter(self):\n",
    "        return 2 * 3.14 * self.radius\n",
    "\n",
    "# Create instances of Rectangle and Circle\n",
    "rectangle = Rectangle(3, 4)\n",
    "circle = Circle(5)\n",
    "\n",
    "# Demonstrate the abstract methods\n",
    "print(f\"Rectangle area: {rectangle.area()}\")        # Output: Rectangle area: 12\n",
    "print(f\"Rectangle perimeter: {rectangle.perimeter()}\")  # Output: Rectangle perimeter: 14\n",
    "print(f\"Circle area: {circle.area()}\")              # Output: Circle area: 78.5\n",
    "print(f\"Circle perimeter: {circle.perimeter()}\")    # Output: Circle perimeter: 31.400000000000002"
   ]
  }
 ],
 "metadata": {
  "kernelspec": {
   "display_name": "base",
   "language": "python",
   "name": "python3"
  },
  "language_info": {
   "codemirror_mode": {
    "name": "ipython",
    "version": 3
   },
   "file_extension": ".py",
   "mimetype": "text/x-python",
   "name": "python",
   "nbconvert_exporter": "python",
   "pygments_lexer": "ipython3",
   "version": "3.12.7"
  }
 },
 "nbformat": 4,
 "nbformat_minor": 2
}
