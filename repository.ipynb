{
 "cells": [
  {
   "cell_type": "code",
   "execution_count": null,
   "metadata": {},
   "outputs": [
    {
     "name": "stdout",
     "output_type": "stream",
     "text": [
      "Hello,  Muahmmad Waleed Bin Anwar\n"
     ]
    }
   ],
   "source": [
    "# week 1 questions\n",
    "# Q1\n",
    "name = input(\"Enter Your Name: \")\n",
    "print(\"Hello, \", name)"
   ]
  },
  {
   "cell_type": "code",
   "execution_count": null,
   "metadata": {},
   "outputs": [
    {
     "name": "stdout",
     "output_type": "stream",
     "text": [
      "Your Name is:  Muhammad Waleed Bin Anwar\n"
     ]
    }
   ],
   "source": [
    "# Q2\n",
    "name1 = \"Muhammad Waleed Bin Anwar\"\n",
    "print(\"Your Name is: \", name1)"
   ]
  },
  {
   "cell_type": "code",
   "execution_count": 6,
   "metadata": {},
   "outputs": [
    {
     "name": "stdout",
     "output_type": "stream",
     "text": [
      "5\n",
      "5.0\n"
     ]
    }
   ],
   "source": [
    "# Q3\n",
    "a=5\n",
    "b=5.5\n",
    "print(int(b))\n",
    "print(float(a))"
   ]
  },
  {
   "cell_type": "code",
   "execution_count": 7,
   "metadata": {},
   "outputs": [
    {
     "name": "stdout",
     "output_type": "stream",
     "text": [
      "The Sum is: 444\n"
     ]
    }
   ],
   "source": [
    "# Q4\n",
    "a1=int(input(\"Enter First Number: \"))\n",
    "b1=int(input(\"Enter Second Number: \"))\n",
    "print(\"The Sum is:\", a1+b1)\n"
   ]
  },
  {
   "cell_type": "code",
   "execution_count": 6,
   "metadata": {},
   "outputs": [
    {
     "name": "stdout",
     "output_type": "stream",
     "text": [
      "The Area of The Rectangle is: 12\n"
     ]
    }
   ],
   "source": [
    "# Q5\n",
    "length=int(input(\"Enter The length of the rectangle: \"))\n",
    "width=int(input(\"Enter The Width of the rectangle: \"))\n",
    "print(\"The Area of The Rectangle is:\", length*width)"
   ]
  },
  {
   "cell_type": "code",
   "execution_count": 16,
   "metadata": {},
   "outputs": [
    {
     "name": "stdout",
     "output_type": "stream",
     "text": [
      "The type of x is:  <class 'float'>\n"
     ]
    }
   ],
   "source": [
    "# Q6\n",
    "x=5.5\n",
    "print(\"The type of x is: \", type(x))"
   ]
  },
  {
   "cell_type": "code",
   "execution_count": 17,
   "metadata": {},
   "outputs": [
    {
     "name": "stdout",
     "output_type": "stream",
     "text": [
      "Your Age Is:  19\n"
     ]
    }
   ],
   "source": [
    "# Q7\n",
    "age=input(\"Enter Your age: \")\n",
    "print(\"Your Age Is: \", age)"
   ]
  },
  {
   "cell_type": "code",
   "execution_count": 3,
   "metadata": {},
   "outputs": [
    {
     "name": "stdout",
     "output_type": "stream",
     "text": [
      " a =  33 b =  55\n",
      " a =  55 b =  33\n"
     ]
    }
   ],
   "source": [
    "# Q8\n",
    "a2 = 33\n",
    "b2 = 55\n",
    "print(\" a = \", a2, \"b = \", b2)\n",
    "temporary = a2\n",
    "a2 = b2\n",
    "b2 = temporary \n",
    "print(\" a = \", a2, \"b = \", b2)"
   ]
  },
  {
   "cell_type": "code",
   "execution_count": 5,
   "metadata": {},
   "outputs": [
    {
     "name": "stdout",
     "output_type": "stream",
     "text": [
      "The Square is:  9\n",
      "The Cube is:  27\n"
     ]
    }
   ],
   "source": [
    "# Q9\n",
    "num1 = int(input(\"Enter The number you want to square: \"))\n",
    "print(\"The Square is: \", num1**2)\n",
    "print(\"The Cube is: \", num1**3)"
   ]
  },
  {
   "cell_type": "code",
   "execution_count": 8,
   "metadata": {},
   "outputs": [
    {
     "name": "stdout",
     "output_type": "stream",
     "text": [
      "Hi, Muhammad Waleed Nice to meet you\n"
     ]
    }
   ],
   "source": [
    "# Q10\n",
    "_name1=input(\"What is your name: \")\n",
    "print(\"Hi,\", _name1, \"Nice to meet you\")"
   ]
  },
  {
   "cell_type": "code",
   "execution_count": 10,
   "metadata": {},
   "outputs": [
    {
     "name": "stdout",
     "output_type": "stream",
     "text": [
      "The Result is:  9.0\n"
     ]
    }
   ],
   "source": [
    "# Q11\n",
    "_problem= 5+3*2-8/4\n",
    "print(\"The Result is: \", _problem)"
   ]
  },
  {
   "cell_type": "code",
   "execution_count": 11,
   "metadata": {},
   "outputs": [
    {
     "name": "stdout",
     "output_type": "stream",
     "text": [
      "True\n"
     ]
    }
   ],
   "source": [
    "# Q12\n",
    "_numx1=int(input(\"Enter first num: \"))\n",
    "_numx2=int(input(\"Enter second num: \"))\n",
    "print(_numx1==_numx2)"
   ]
  },
  {
   "cell_type": "code",
   "execution_count": 12,
   "metadata": {},
   "outputs": [
    {
     "name": "stdout",
     "output_type": "stream",
     "text": [
      "Waleed Anwar\n"
     ]
    }
   ],
   "source": [
    "# Q13\n",
    "str1=input(\"Enter your first name: \")\n",
    "str2=input(\"Enter your last name: \")\n",
    "print(str1+\" \"+str2)"
   ]
  },
  {
   "cell_type": "code",
   "execution_count": 13,
   "metadata": {},
   "outputs": [
    {
     "name": "stdout",
     "output_type": "stream",
     "text": [
      "Average is:  2.0\n"
     ]
    }
   ],
   "source": [
    "# Q14\n",
    "x1=int(input(\"First Number: \"))\n",
    "x2=int(input(\"Second Number: \"))\n",
    "x3=int(input(\"Third Number: \"))\n",
    "print(\"Average is: \", (x1+x2+x3)/3)"
   ]
  },
  {
   "cell_type": "code",
   "execution_count": 14,
   "metadata": {},
   "outputs": [
    {
     "name": "stdout",
     "output_type": "stream",
     "text": [
      "Uppercase text:  WALEED\n"
     ]
    }
   ],
   "source": [
    "# Q15\n",
    "lowercase=input(\"Enter Lowercase text: \")\n",
    "uppercase=lowercase.upper()\n",
    "print(\"Uppercase text: \", uppercase)"
   ]
  },
  {
   "cell_type": "code",
   "execution_count": 16,
   "metadata": {},
   "outputs": [
    {
     "name": "stdout",
     "output_type": "stream",
     "text": [
      "first 3 letters of your name:  Wal\n"
     ]
    }
   ],
   "source": [
    "# Q16\n",
    "inpt=input(\"Enter your first name: \")\n",
    "first3=inpt[0:3]\n",
    "print(\"first 3 letters of your name: \", first3)"
   ]
  },
  {
   "cell_type": "code",
   "execution_count": 17,
   "metadata": {},
   "outputs": [
    {
     "name": "stdout",
     "output_type": "stream",
     "text": [
      "Remainder:  0\n"
     ]
    }
   ],
   "source": [
    "# Q17\n",
    "firstnum=int(input(\"Enter First Number: \"))\n",
    "secondnum=int(input(\"Enter Second Number: \"))\n",
    "print(\"Remainder: \", firstnum%secondnum)"
   ]
  },
  {
   "cell_type": "code",
   "execution_count": 18,
   "metadata": {},
   "outputs": [
    {
     "name": "stdout",
     "output_type": "stream",
     "text": [
      "Reversed text:  GOD\n"
     ]
    }
   ],
   "source": [
    "# Q18\n",
    "text=input(\"Enter your string: \")\n",
    "reversedtext=text[::-1]\n",
    "print(\"Reversed text: \", reversedtext)"
   ]
  },
  {
   "cell_type": "code",
   "execution_count": 20,
   "metadata": {},
   "outputs": [
    {
     "name": "stdout",
     "output_type": "stream",
     "text": [
      "Time in hours is:  2.0\n"
     ]
    }
   ],
   "source": [
    "# Q19\n",
    "secs=int(input(\"Enter Time in Seconds: \"))\n",
    "print(\"Time in hours is: \", secs/3600)"
   ]
  },
  {
   "cell_type": "code",
   "execution_count": 37,
   "metadata": {},
   "outputs": [
    {
     "name": "stdout",
     "output_type": "stream",
     "text": [
      "Number is Odd\n"
     ]
    }
   ],
   "source": [
    "# Q20\n",
    "\n",
    "number = int(input(\"Enter Your Integer: \"))\n",
    "if (number%2)==0:\n",
    "        print(\"Number is Even\")\n",
    "elif (number%2)!=0:\n",
    "     print(\"Number is Odd\")\n",
    "\n"
   ]
  }
 ],
 "metadata": {
  "kernelspec": {
   "display_name": "Python 3",
   "language": "python",
   "name": "python3"
  },
  "language_info": {
   "codemirror_mode": {
    "name": "ipython",
    "version": 3
   },
   "file_extension": ".py",
   "mimetype": "text/x-python",
   "name": "python",
   "nbconvert_exporter": "python",
   "pygments_lexer": "ipython3",
   "version": "3.11.9"
  }
 },
 "nbformat": 4,
 "nbformat_minor": 2
}
