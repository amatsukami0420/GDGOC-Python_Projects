{
 "cells": [
  {
   "cell_type": "markdown",
   "metadata": {},
   "source": [
    "### Question 1: Create a tuple with 5 elements and try modifying it. What happens?\n",
    "\n",
    "1. Create a tuple with 5 elements.\n",
    "2. Attempt to modify one of the elements in the tuple.\n",
    "3. Observe and document the result."
   ]
  },
  {
   "cell_type": "code",
   "execution_count": 2,
   "metadata": {},
   "outputs": [
    {
     "name": "stdout",
     "output_type": "stream",
     "text": [
      "Error: 'tuple' object does not support item assignment\n",
      "Tuples are immutable, so you cannot modify their elements.\n"
     ]
    }
   ],
   "source": [
    "my_tuple = (1, 2, 3, 4, 5)\n",
    "try:\n",
    "    my_tuple[0] = 10\n",
    "except TypeError as e:\n",
    "    print(f\"Error: {e}\")\n",
    "print(\"Tuples are immutable, so you cannot modify their elements.\")"
   ]
  },
  {
   "cell_type": "markdown",
   "metadata": {},
   "source": [
    "### Question 2: Convert a tuple into a list and modify an element.\n",
    "\n",
    "1. Convert the tuple `my_tuple` into a list.1. Convert the tuple `my_tuple` into a list.\n",
    "2. Modify one of the elements in the list.\n",
    "3. Document the result."
   ]
  },
  {
   "cell_type": "code",
   "execution_count": 5,
   "metadata": {},
   "outputs": [
    {
     "name": "stdout",
     "output_type": "stream",
     "text": [
      "Modified list: [1, 2, 3, 4, 5, 10]\n"
     ]
    }
   ],
   "source": [
    "my_list = list(my_tuple)\n",
    "my_list.append(10)\n",
    "print(\"Modified list:\", my_list)"
   ]
  },
  {
   "cell_type": "markdown",
   "metadata": {},
   "source": [
    "### Question 3: Create two sets and perform union, intersection, and difference operations.\n",
    "\n",
    "1. Create two sets with some common and some unique elements.\n",
    "2. Perform the union operation on the sets and document the result.\n",
    "3. Perform the intersection operation on the sets and document the result.\n",
    "4. Perform the difference operation on the sets and document the result."
   ]
  },
  {
   "cell_type": "code",
   "execution_count": 9,
   "metadata": {},
   "outputs": [
    {
     "name": "stdout",
     "output_type": "stream",
     "text": [
      "Union:        {1, 2, 3, 4, 5, 6, 7, 8}\n",
      "Intersection: {4, 5}\n",
      "Difference:   {1, 2, 3}\n"
     ]
    }
   ],
   "source": [
    "set1 = {1, 2, 3, 4, 5}\n",
    "set2 = {4, 5, 6, 7, 8}\n",
    "print(f\"Union:        {set1.union(set2)}\")\n",
    "print(f\"Intersection: {set1.intersection(set2)}\")\n",
    "print(f\"Difference:   {set1.difference(set2)}\")"
   ]
  },
  {
   "cell_type": "markdown",
   "metadata": {},
   "source": [
    "### Question 4: Remove duplicate values from a list using a set\n",
    "\n",
    "1. Create a list with duplicate values.\n",
    "2. Convert the list into a set to remove duplicates.\n",
    "3. Convert the set back into a list.\n",
    "4. Document the result."
   ]
  },
  {
   "cell_type": "code",
   "execution_count": 14,
   "metadata": {},
   "outputs": [
    {
     "name": "stdout",
     "output_type": "stream",
     "text": [
      "Original list: [1, 2, 2, 3, 3, 4, 5]\n",
      "List after removing duplicates: [1, 2, 3, 4, 5]\n"
     ]
    }
   ],
   "source": [
    "list_with_duplicates = [1, 2, 2, 3, 3, 4, 5]\n",
    "unique_set = set(list_with_duplicates)\n",
    "unique_list = list(unique_set)\n",
    "print(\"Original list:\", list_with_duplicates)\n",
    "print(\"List after removing duplicates:\", unique_list)"
   ]
  },
  {
   "cell_type": "markdown",
   "metadata": {},
   "source": [
    "### Question 5: Find the common elements between two sets\n",
    "\n",
    "1. Create two sets with some common and some unique elements.\n",
    "2. Find the common elements between the two sets using the intersection operation.\n",
    "3. Document the result."
   ]
  },
  {
   "cell_type": "code",
   "execution_count": 18,
   "metadata": {},
   "outputs": [
    {
     "name": "stdout",
     "output_type": "stream",
     "text": [
      "Common: {3.14, 'a'}\n"
     ]
    }
   ],
   "source": [
    "set3 = {1, 'a', 3.14, (1, 2)}\n",
    "set4 = {'a', 3.14, 'b', (2, 3)}\n",
    "common_elements = set3.intersection(set4)\n",
    "print(f\"Common: {common_elements}\")"
   ]
  },
  {
   "cell_type": "markdown",
   "metadata": {},
   "source": [
    "### Question 6: Use a set to store unique words from a sentence\n",
    "\n",
    "1. Input a sentence with multiple words, including some duplicate words.\n",
    "2. Split the sentence into individual words.\n",
    "3. Convert the list of words into a set to store only unique words.\n",
    "4. Document the result."
   ]
  },
  {
   "cell_type": "code",
   "execution_count": 24,
   "metadata": {},
   "outputs": [
    {
     "name": "stdout",
     "output_type": "stream",
     "text": [
      "Original sentence: HELLO hello Hello HEllO heLLo hellO\n",
      "Unique words set: {'hello'}\n"
     ]
    }
   ],
   "source": [
    "import string\n",
    "\n",
    "sentence = input(\"Enter a sentence: \")\n",
    "print(\"Original sentence:\", sentence)\n",
    "words_list = sentence.split()\n",
    "words_list = [word.strip(string.punctuation).lower() for word in words_list]\n",
    "unique_words_set = set(words_list)\n",
    "print(\"Unique words set:\", unique_words_set)"
   ]
  },
  {
   "cell_type": "markdown",
   "metadata": {},
   "source": [
    "### Question 7: Write a program to check if a given value exists in a tuple\n",
    "\n",
    "1. Create a tuple\n",
    "2. Check if a given value exists in the tuple using the `in` keyword.\n",
    "3. Document the result.\n"
   ]
  },
  {
   "cell_type": "code",
   "execution_count": 27,
   "metadata": {},
   "outputs": [
    {
     "name": "stdout",
     "output_type": "stream",
     "text": [
      "Does the value 24 exist in the tuple? False\n"
     ]
    }
   ],
   "source": [
    "value_to_check = int(input(\"Enter a value to check: \"))\n",
    "exists_in_tuple = value_to_check in my_tuple\n",
    "print(f\"Does the value {value_to_check} exist in the tuple? {exists_in_tuple}\")"
   ]
  },
  {
   "cell_type": "markdown",
   "metadata": {},
   "source": [
    "### Question 8: Merge two tuples and sort the result\n",
    "\n",
    "1. Create two tuples with numerical elements.\n",
    "2. Merge the two tuples into one.\n",
    "3. Convert the merged tuple into a list.\n",
    "4. Sort the list.\n",
    "5. Convert the sorted list back into a tuple.\n",
    "6. Document the result.\n"
   ]
  },
  {
   "cell_type": "code",
   "execution_count": 28,
   "metadata": {},
   "outputs": [
    {
     "name": "stdout",
     "output_type": "stream",
     "text": [
      "Merged tuple: (5, 2, 9, 1, 8, 3, 7, 4)\n",
      "Sorted tuple: (1, 2, 3, 4, 5, 7, 8, 9)\n"
     ]
    }
   ],
   "source": [
    "tuple1 = (5, 2, 9, 1)\n",
    "tuple2 = (8, 3, 7, 4)\n",
    "merged_tuple = tuple1 + tuple2\n",
    "merged_list = list(merged_tuple)\n",
    "merged_list.sort()\n",
    "sorted_tuple = tuple(merged_list)\n",
    "print(\"Merged tuple:\", merged_tuple)\n",
    "print(\"Sorted tuple:\", sorted_tuple)"
   ]
  },
  {
   "cell_type": "markdown",
   "metadata": {},
   "source": [
    "### Question 9: Find the length of a tuple without using len()\n",
    "\n",
    "1. Create a tuple with multiple elements.\n",
    "2. Initialize a counter variable to zero.\n",
    "3. Iterate through the tuple, incrementing the counter for each element.\n",
    "4. Document the result."
   ]
  },
  {
   "cell_type": "code",
   "execution_count": 29,
   "metadata": {},
   "outputs": [
    {
     "name": "stdout",
     "output_type": "stream",
     "text": [
      "Length of the tuple: 10\n"
     ]
    }
   ],
   "source": [
    "tuple_example = (1, 2, 3, 4, 5, 6, 7, 8, 9, 10)\n",
    "counter = 0\n",
    "for element in tuple_example:\n",
    "    counter += 1\n",
    "print(\"Length of the tuple:\", counter)\n"
   ]
  },
  {
   "cell_type": "markdown",
   "metadata": {},
   "source": [
    "### Question 10: Explain when to use a tuple instead of a list\n",
    "\n",
    "1. **Immutability**: Use a tuple when you need an immutable sequence of elements. Tuples cannot be modified after creation, which makes them suitable for storing data that should not change.\n",
    "\n",
    "2. **Performance**: Tuples are generally faster than lists for iteration and access because of their immutability. If you have a large dataset that does not require modification, tuples can be more efficient.\n",
    "\n",
    "3. **Data Integrity**: Tuples ensure that the data remains constant throughout the program, which can help maintain data integrity.\n",
    "\n",
    "4. **Semantic Meaning**: Use tuples to represent fixed collections of items, such as coordinates (x, y), RGB color values (r, g, b), or other grouped data where the position of each element has a specific meaning."
   ]
  }
 ],
 "metadata": {
  "kernelspec": {
   "display_name": "base",
   "language": "python",
   "name": "python3"
  },
  "language_info": {
   "codemirror_mode": {
    "name": "ipython",
    "version": 3
   },
   "file_extension": ".py",
   "mimetype": "text/x-python",
   "name": "python",
   "nbconvert_exporter": "python",
   "pygments_lexer": "ipython3",
   "version": "3.12.7"
  }
 },
 "nbformat": 4,
 "nbformat_minor": 2
}
